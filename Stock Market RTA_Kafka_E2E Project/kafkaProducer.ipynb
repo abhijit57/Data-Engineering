{
 "cells": [
  {
   "cell_type": "code",
   "execution_count": 2,
   "id": "423bfbcb-5bf1-40b0-b49a-245113753d38",
   "metadata": {},
   "outputs": [
    {
     "name": "stdout",
     "output_type": "stream",
     "text": [
      "Looking in indexes: https://pypi.org/simple, https://pypi.ngc.nvidia.com\n",
      "Collecting kafka-python\n",
      "  Downloading kafka_python-2.0.2-py2.py3-none-any.whl (246 kB)\n",
      "     -------------------------------------- 246.5/246.5 kB 7.4 MB/s eta 0:00:00\n",
      "Installing collected packages: kafka-python\n",
      "Successfully installed kafka-python-2.0.2\n"
     ]
    }
   ],
   "source": [
    "!pip install kafka-python"
   ]
  },
  {
   "cell_type": "code",
   "execution_count": 1,
   "id": "aca32556-7e1f-47b3-9a77-fd265856901d",
   "metadata": {},
   "outputs": [],
   "source": [
    "import pandas as pd\n",
    "from kafka import KafkaProducer\n",
    "from time import sleep\n",
    "from json import dumps\n",
    "import json"
   ]
  },
  {
   "cell_type": "code",
   "execution_count": 2,
   "id": "feeb63d3-94c6-4d49-86c8-9df43e54194b",
   "metadata": {},
   "outputs": [],
   "source": [
    "producer = KafkaProducer(bootstrap_servers=['18.119.158.111:9092'],\n",
    "                        value_serializer=lambda x: dumps(x).encode('utf-8'))"
   ]
  },
  {
   "cell_type": "code",
   "execution_count": 5,
   "id": "8fa2198d-c925-4574-9868-a18a85116410",
   "metadata": {},
   "outputs": [
    {
     "data": {
      "text/plain": [
       "<kafka.producer.future.FutureRecordMetadata at 0x19a139b67c0>"
      ]
     },
     "execution_count": 5,
     "metadata": {},
     "output_type": "execute_result"
    }
   ],
   "source": [
    "producer.send('crypto_stream', value=\"values-set_1060\")"
   ]
  },
  {
   "cell_type": "code",
   "execution_count": 10,
   "id": "2779dc8e-6caf-4f99-a0cc-21b52ab71def",
   "metadata": {},
   "outputs": [],
   "source": [
    "producer.flush()"
   ]
  },
  {
   "cell_type": "code",
   "execution_count": 11,
   "id": "a688b49f-9536-485f-a440-ea0e8f7cafb8",
   "metadata": {},
   "outputs": [
    {
     "name": "stdout",
     "output_type": "stream",
     "text": [
      "Pinging WazirX Server.......\n",
      "Ping Successful\n",
      "\n",
      "Number of Records Extracted and Transformed: 439\n",
      "\n",
      " --------------- Kafka Producer (Streaming Started) ------------------\n"
     ]
    },
    {
     "ename": "KeyboardInterrupt",
     "evalue": "",
     "output_type": "error",
     "traceback": [
      "\u001b[1;31m---------------------------------------------------------------------------\u001b[0m",
      "\u001b[1;31mKeyboardInterrupt\u001b[0m                         Traceback (most recent call last)",
      "\u001b[1;32m<ipython-input-11-49e1038ee679>\u001b[0m in \u001b[0;36m<module>\u001b[1;34m\u001b[0m\n\u001b[0;32m     84\u001b[0m     \u001b[1;32mwhile\u001b[0m \u001b[1;32mTrue\u001b[0m\u001b[1;33m:\u001b[0m\u001b[1;33m\u001b[0m\u001b[1;33m\u001b[0m\u001b[0m\n\u001b[0;32m     85\u001b[0m         \u001b[0mdict_tickers\u001b[0m \u001b[1;33m=\u001b[0m \u001b[0mdata\u001b[0m\u001b[1;33m.\u001b[0m\u001b[0msample\u001b[0m\u001b[1;33m(\u001b[0m\u001b[1;36m1\u001b[0m\u001b[1;33m)\u001b[0m\u001b[1;33m.\u001b[0m\u001b[0mto_dict\u001b[0m\u001b[1;33m(\u001b[0m\u001b[0morient\u001b[0m\u001b[1;33m=\u001b[0m\u001b[1;34m\"records\"\u001b[0m\u001b[1;33m)\u001b[0m\u001b[1;33m[\u001b[0m\u001b[1;36m0\u001b[0m\u001b[1;33m]\u001b[0m\u001b[1;33m\u001b[0m\u001b[1;33m\u001b[0m\u001b[0m\n\u001b[1;32m---> 86\u001b[1;33m         \u001b[0mproducer\u001b[0m\u001b[1;33m.\u001b[0m\u001b[0msend\u001b[0m\u001b[1;33m(\u001b[0m\u001b[1;34m'crypto_stream'\u001b[0m\u001b[1;33m,\u001b[0m \u001b[0mvalue\u001b[0m\u001b[1;33m=\u001b[0m\u001b[0mdict_tickers\u001b[0m\u001b[1;33m)\u001b[0m\u001b[1;33m\u001b[0m\u001b[1;33m\u001b[0m\u001b[0m\n\u001b[0m\u001b[0;32m     87\u001b[0m         \u001b[1;31m# cnt += 1\u001b[0m\u001b[1;33m\u001b[0m\u001b[1;33m\u001b[0m\u001b[1;33m\u001b[0m\u001b[0m\n\u001b[0;32m     88\u001b[0m     \u001b[1;31m# print('--------------- Kafka Producer (Streaming Completed) ------------------')\u001b[0m\u001b[1;33m\u001b[0m\u001b[1;33m\u001b[0m\u001b[1;33m\u001b[0m\u001b[0m\n",
      "\u001b[1;32m~\\anaconda3\\lib\\site-packages\\kafka\\producer\\kafka.py\u001b[0m in \u001b[0;36msend\u001b[1;34m(self, topic, value, key, headers, partition, timestamp_ms)\u001b[0m\n\u001b[0;32m    606\u001b[0m                 log.debug(\"Waking up the sender since %s is either full or\"\n\u001b[0;32m    607\u001b[0m                           \" getting a new batch\", tp)\n\u001b[1;32m--> 608\u001b[1;33m                 \u001b[0mself\u001b[0m\u001b[1;33m.\u001b[0m\u001b[0m_sender\u001b[0m\u001b[1;33m.\u001b[0m\u001b[0mwakeup\u001b[0m\u001b[1;33m(\u001b[0m\u001b[1;33m)\u001b[0m\u001b[1;33m\u001b[0m\u001b[1;33m\u001b[0m\u001b[0m\n\u001b[0m\u001b[0;32m    609\u001b[0m \u001b[1;33m\u001b[0m\u001b[0m\n\u001b[0;32m    610\u001b[0m             \u001b[1;32mreturn\u001b[0m \u001b[0mfuture\u001b[0m\u001b[1;33m\u001b[0m\u001b[1;33m\u001b[0m\u001b[0m\n",
      "\u001b[1;32m~\\anaconda3\\lib\\site-packages\\kafka\\producer\\sender.py\u001b[0m in \u001b[0;36mwakeup\u001b[1;34m(self)\u001b[0m\n\u001b[0;32m    331\u001b[0m     \u001b[1;32mdef\u001b[0m \u001b[0mwakeup\u001b[0m\u001b[1;33m(\u001b[0m\u001b[0mself\u001b[0m\u001b[1;33m)\u001b[0m\u001b[1;33m:\u001b[0m\u001b[1;33m\u001b[0m\u001b[1;33m\u001b[0m\u001b[0m\n\u001b[0;32m    332\u001b[0m         \u001b[1;34m\"\"\"Wake up the selector associated with this send thread.\"\"\"\u001b[0m\u001b[1;33m\u001b[0m\u001b[1;33m\u001b[0m\u001b[0m\n\u001b[1;32m--> 333\u001b[1;33m         \u001b[0mself\u001b[0m\u001b[1;33m.\u001b[0m\u001b[0m_client\u001b[0m\u001b[1;33m.\u001b[0m\u001b[0mwakeup\u001b[0m\u001b[1;33m(\u001b[0m\u001b[1;33m)\u001b[0m\u001b[1;33m\u001b[0m\u001b[1;33m\u001b[0m\u001b[0m\n\u001b[0m\u001b[0;32m    334\u001b[0m \u001b[1;33m\u001b[0m\u001b[0m\n\u001b[0;32m    335\u001b[0m     \u001b[1;32mdef\u001b[0m \u001b[0mbootstrap_connected\u001b[0m\u001b[1;33m(\u001b[0m\u001b[0mself\u001b[0m\u001b[1;33m)\u001b[0m\u001b[1;33m:\u001b[0m\u001b[1;33m\u001b[0m\u001b[1;33m\u001b[0m\u001b[0m\n",
      "\u001b[1;32m~\\anaconda3\\lib\\site-packages\\kafka\\client_async.py\u001b[0m in \u001b[0;36mwakeup\u001b[1;34m(self)\u001b[0m\n\u001b[0;32m    930\u001b[0m         \u001b[1;32mwith\u001b[0m \u001b[0mself\u001b[0m\u001b[1;33m.\u001b[0m\u001b[0m_wake_lock\u001b[0m\u001b[1;33m:\u001b[0m\u001b[1;33m\u001b[0m\u001b[1;33m\u001b[0m\u001b[0m\n\u001b[0;32m    931\u001b[0m             \u001b[1;32mtry\u001b[0m\u001b[1;33m:\u001b[0m\u001b[1;33m\u001b[0m\u001b[1;33m\u001b[0m\u001b[0m\n\u001b[1;32m--> 932\u001b[1;33m                 \u001b[0mself\u001b[0m\u001b[1;33m.\u001b[0m\u001b[0m_wake_w\u001b[0m\u001b[1;33m.\u001b[0m\u001b[0msendall\u001b[0m\u001b[1;33m(\u001b[0m\u001b[1;34mb'x'\u001b[0m\u001b[1;33m)\u001b[0m\u001b[1;33m\u001b[0m\u001b[1;33m\u001b[0m\u001b[0m\n\u001b[0m\u001b[0;32m    933\u001b[0m             \u001b[1;32mexcept\u001b[0m \u001b[0msocket\u001b[0m\u001b[1;33m.\u001b[0m\u001b[0mtimeout\u001b[0m\u001b[1;33m:\u001b[0m\u001b[1;33m\u001b[0m\u001b[1;33m\u001b[0m\u001b[0m\n\u001b[0;32m    934\u001b[0m                 \u001b[0mlog\u001b[0m\u001b[1;33m.\u001b[0m\u001b[0mwarning\u001b[0m\u001b[1;33m(\u001b[0m\u001b[1;34m'Timeout to send to wakeup socket!'\u001b[0m\u001b[1;33m)\u001b[0m\u001b[1;33m\u001b[0m\u001b[1;33m\u001b[0m\u001b[0m\n",
      "\u001b[1;31mKeyboardInterrupt\u001b[0m: "
     ]
    }
   ],
   "source": [
    "# Importing necessary libraries\n",
    "import pandas as pd\n",
    "import numpy as np\n",
    "import asyncio, websockets, requests\n",
    "import os, sys, random, json, logging\n",
    "\n",
    "from kafka import KafkaProducer\n",
    "from s3fs import S3FileSystem\n",
    "from time import sleep\n",
    "from json import dumps, loads\n",
    "\n",
    "from wazirx_sapi_client.rest import Client\n",
    "from wazirx_sapi_client.websocket import WebsocketClient\n",
    "\n",
    "from tqdm import tqdm\n",
    "from configparser import ConfigParser\n",
    "from datetime import datetime\n",
    "\n",
    "import warnings\n",
    "warnings.filterwarnings(\"ignore\")\n",
    "\n",
    "# Reading Config File for fetching the Wazirx API keys\n",
    "cfg_file = 'Config.ini'\n",
    "config = ConfigParser(interpolation=None)\n",
    "config.read(cfg_file, encoding='utf-8')\n",
    "# Storing the contents of the config file into respective dictionary variables\n",
    "wazirx_keys = dict(config.items('wazirx-keys'))\n",
    "\n",
    "\n",
    "# Setting logging configurations\n",
    "# logging.basicConfig(format='%(levelname)s:%(message)s',\n",
    "#                     level=logging.DEBUG)\n",
    "\n",
    "\n",
    "# Kafka Producer Initialization\n",
    "producer = KafkaProducer(bootstrap_servers=['18.119.158.111:9092'],\n",
    "                         value_serializer=lambda x: dumps(x).encode('utf-8'))\n",
    "\n",
    "\n",
    "# Amazon S3 File System Initialization\n",
    "s3 = S3FileSystem()\n",
    "\n",
    "\n",
    "# Extract tickers data and convert it into a dataframe\n",
    "def extract_tickers(conn):\n",
    "    # Extract Data using the WazirX API\n",
    "    tickers = conn.send('tickers')[1]\n",
    "    # Transform the Extracted Data\n",
    "    df = pd.DataFrame(tickers)\n",
    "    # df['openPrice'] = df['openPrice'].astype(float)\n",
    "    # df['lowPrice'] = df['lowPrice'].astype(float)\n",
    "    # df['highPrice'] = df['highPrice'].astype(float)\n",
    "    # df['lastPrice'] = df['lastPrice'].astype(float)\n",
    "    # df['volume'] = df['volume'].astype(float)\n",
    "    # df['bidPrice'] = df['bidPrice'].astype(float)\n",
    "    # df['askPrice'] = df['askPrice'].astype(float)\n",
    "    # df['datetime'] = pd.to_datetime(df['at'], unit='ms')\n",
    "\n",
    "    return df\n",
    "\n",
    "\n",
    "if __name__ == \"__main__\":\n",
    "\n",
    "    # Testing the API connection\n",
    "    client = Client(api_key=wazirx_keys['api_key'], secret_key=wazirx_keys['secret_key'])\n",
    "    print('Pinging WazirX Server.......')\n",
    "    if client.send(\"ping\")[0] == 200:\n",
    "        # logging.info('Ping Successful')\n",
    "        print('Ping Successful')\n",
    "    else:\n",
    "        # logging.error('Ping Unsuccessful; Check the Authentication')\n",
    "        print('Ping Unsuccessful; Check the Authentication')\n",
    "        sys.exit(1)\n",
    "\n",
    "    data = extract_tickers(client)\n",
    "    print()\n",
    "    # logging.info(f'Number of Records Extracted and Transformed: {len(data)}')\n",
    "    print(f'Number of Records Extracted and Transformed: {len(data)}')\n",
    "\n",
    "    print('\\n', '--------------- Kafka Producer (Streaming Started) ------------------')\n",
    "    # producer.flush()\n",
    "    # while True:\n",
    "    # cnt = 0\n",
    "    while True:\n",
    "        dict_tickers = data.sample(1).to_dict(orient=\"records\")[0]\n",
    "        producer.send('crypto_stream', value=dict_tickers)\n",
    "        sleep(2)\n",
    "        # cnt += 1\n",
    "    # print('--------------- Kafka Producer (Streaming Completed) ------------------')"
   ]
  },
  {
   "cell_type": "code",
   "execution_count": null,
   "id": "a70b7ac0-784f-4b13-83c8-c05a5fa3d8eb",
   "metadata": {},
   "outputs": [],
   "source": []
  }
 ],
 "metadata": {
  "kernelspec": {
   "display_name": "Python 3",
   "language": "python",
   "name": "python3"
  },
  "language_info": {
   "codemirror_mode": {
    "name": "ipython",
    "version": 3
   },
   "file_extension": ".py",
   "mimetype": "text/x-python",
   "name": "python",
   "nbconvert_exporter": "python",
   "pygments_lexer": "ipython3",
   "version": "3.8.8"
  }
 },
 "nbformat": 4,
 "nbformat_minor": 5
}
