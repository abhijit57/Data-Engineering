{
 "cells": [
  {
   "cell_type": "code",
   "execution_count": 3,
   "id": "375c0b5c-2b30-4501-b89b-1818896e483a",
   "metadata": {
    "collapsed": true,
    "jupyter": {
     "outputs_hidden": true
    },
    "tags": [],
    "pycharm": {
     "name": "#%%\n"
    }
   },
   "outputs": [
    {
     "name": "stdout",
     "output_type": "stream",
     "text": [
      "Looking in indexes: https://pypi.org/simple, https://pypi.ngc.nvidia.com\n",
      "Requirement already satisfied: requests in c:\\users\\abhij\\appdata\\roaming\\python\\python38\\site-packages (from -r requirements.txt (line 1)) (2.28.1)\n",
      "Collecting websockets\n",
      "  Downloading websockets-10.4-cp38-cp38-win_amd64.whl (101 kB)\n",
      "     -------------------------------------- 101.4/101.4 kB 5.7 MB/s eta 0:00:00\n",
      "Requirement already satisfied: certifi>=2017.4.17 in c:\\users\\abhij\\anaconda3\\lib\\site-packages (from requests->-r requirements.txt (line 1)) (2021.10.8)\n",
      "Requirement already satisfied: charset-normalizer<3,>=2 in c:\\users\\abhij\\anaconda3\\lib\\site-packages (from requests->-r requirements.txt (line 1)) (2.0.4)\n",
      "Requirement already satisfied: urllib3<1.27,>=1.21.1 in c:\\users\\abhij\\anaconda3\\lib\\site-packages (from requests->-r requirements.txt (line 1)) (1.26.13)\n",
      "Requirement already satisfied: idna<4,>=2.5 in c:\\users\\abhij\\anaconda3\\lib\\site-packages (from requests->-r requirements.txt (line 1)) (2.10)\n",
      "Installing collected packages: websockets\n",
      "Successfully installed websockets-10.4\n"
     ]
    },
    {
     "name": "stderr",
     "output_type": "stream",
     "text": [
      "WARNING: Ignoring invalid distribution -rotobuf (c:\\users\\abhij\\anaconda3\\lib\\site-packages)\n",
      "WARNING: Ignoring invalid distribution -rotobuf (c:\\users\\abhij\\anaconda3\\lib\\site-packages)\n",
      "WARNING: Ignoring invalid distribution -rotobuf (c:\\users\\abhij\\anaconda3\\lib\\site-packages)\n",
      "WARNING: Ignoring invalid distribution -rotobuf (c:\\users\\abhij\\anaconda3\\lib\\site-packages)\n",
      "WARNING: Ignoring invalid distribution -rotobuf (c:\\users\\abhij\\anaconda3\\lib\\site-packages)\n",
      "WARNING: Ignoring invalid distribution -rotobuf (c:\\users\\abhij\\anaconda3\\lib\\site-packages)\n",
      "WARNING: Ignoring invalid distribution -rotobuf (c:\\users\\abhij\\anaconda3\\lib\\site-packages)\n"
     ]
    }
   ],
   "source": [
    "!pip install -r requirements.txt"
   ]
  },
  {
   "cell_type": "code",
   "execution_count": 40,
   "id": "42cae16f-c745-4354-88b1-97b562cadd53",
   "metadata": {
    "tags": [],
    "pycharm": {
     "name": "#%%\n"
    }
   },
   "outputs": [],
   "source": [
    "import pandas as pd\n",
    "import numpy as np\n",
    "import asyncio, requests, websockets\n",
    "import os, sys, random, json\n",
    "\n",
    "from wazirx_sapi_client.rest import Client\n",
    "from wazirx_sapi_client.websocket import WebsocketClient\n",
    "\n",
    "from tqdm import tqdm\n",
    "from configparser import ConfigParser\n",
    "from datetime import datetime\n",
    "\n",
    "from kafka import KafkaProducer\n",
    "from time import sleep\n",
    "from json import dumps\n",
    "\n",
    "import warnings\n",
    "warnings.filterwarnings(\"ignore\")"
   ]
  },
  {
   "cell_type": "code",
   "execution_count": 2,
   "id": "610e8410-f0f6-44e1-94c0-7bc88ce3b218",
   "metadata": {
    "pycharm": {
     "name": "#%%\n"
    }
   },
   "outputs": [],
   "source": [
    "# Read Config File\n",
    "cfg_file = 'config.ini'\n",
    "config = ConfigParser(interpolation=None)\n",
    "config.read(cfg_file, encoding='utf-8')\n",
    "\n",
    "# Storing the contents of the config file into respective dictionary variables\n",
    "wazirx_keys = dict(config.items('wazirx-keys'))"
   ]
  },
  {
   "cell_type": "code",
   "execution_count": 19,
   "id": "4f46fe89-5df8-4be0-aeb8-ec26d39e5221",
   "metadata": {
    "tags": [],
    "pycharm": {
     "name": "#%%\n"
    }
   },
   "outputs": [
    {
     "name": "stdout",
     "output_type": "stream",
     "text": [
      "(200, {})\n"
     ]
    }
   ],
   "source": [
    "client = Client(api_key=wazirx_keys['api_key'], secret_key=wazirx_keys['secret_key'])\n",
    "print(client.send(\"ping\"))"
   ]
  },
  {
   "cell_type": "code",
   "execution_count": 20,
   "id": "10d948f7-2803-44d4-b2cc-021049825c8b",
   "metadata": {
    "tags": [],
    "pycharm": {
     "name": "#%%\n"
    }
   },
   "outputs": [],
   "source": [
    "tickers = client.send('tickers')[1]"
   ]
  },
  {
   "cell_type": "code",
   "execution_count": 6,
   "id": "33adef8e-3e07-426a-b27b-aff7ce4aead5",
   "metadata": {
    "tags": [],
    "pycharm": {
     "name": "#%%\n"
    }
   },
   "outputs": [
    {
     "data": {
      "text/plain": [
       "Timestamp('2023-02-05 00:06:49')"
      ]
     },
     "execution_count": 6,
     "metadata": {},
     "output_type": "execute_result"
    }
   ],
   "source": [
    "pd.to_datetime(at, unit='ms')"
   ]
  },
  {
   "cell_type": "code",
   "execution_count": 23,
   "id": "7ee7cf18-615b-4174-b91e-0321136135f5",
   "metadata": {
    "pycharm": {
     "name": "#%%\n"
    }
   },
   "outputs": [],
   "source": [
    "df = pd.DataFrame(tickers)"
   ]
  },
  {
   "cell_type": "code",
   "execution_count": 24,
   "id": "079c13f7-05a3-499e-8190-98dc502af6ec",
   "metadata": {
    "pycharm": {
     "name": "#%%\n"
    }
   },
   "outputs": [
    {
     "name": "stdout",
     "output_type": "stream",
     "text": [
      "<class 'pandas.core.frame.DataFrame'>\n",
      "RangeIndex: 439 entries, 0 to 438\n",
      "Data columns (total 11 columns):\n",
      " #   Column      Non-Null Count  Dtype \n",
      "---  ------      --------------  ----- \n",
      " 0   symbol      439 non-null    object\n",
      " 1   baseAsset   439 non-null    object\n",
      " 2   quoteAsset  439 non-null    object\n",
      " 3   openPrice   439 non-null    object\n",
      " 4   lowPrice    439 non-null    object\n",
      " 5   highPrice   439 non-null    object\n",
      " 6   lastPrice   439 non-null    object\n",
      " 7   volume      439 non-null    object\n",
      " 8   bidPrice    439 non-null    object\n",
      " 9   askPrice    439 non-null    object\n",
      " 10  at          439 non-null    int64 \n",
      "dtypes: int64(1), object(10)\n",
      "memory usage: 37.9+ KB\n"
     ]
    }
   ],
   "source": [
    "df.info()"
   ]
  },
  {
   "cell_type": "code",
   "execution_count": 26,
   "id": "c3041090-5995-4ca0-987e-858e212aaede",
   "metadata": {
    "pycharm": {
     "name": "#%%\n"
    }
   },
   "outputs": [],
   "source": [
    "df['openPrice'] = df['openPrice'].astype(float)\n",
    "df['lowPrice']  = df['lowPrice'].astype(float)\n",
    "df['highPrice'] = df['highPrice'].astype(float)\n",
    "df['lastPrice'] = df['lastPrice'].astype(float)\n",
    "df['volume']    = df['volume'].astype(float)\n",
    "df['bidPrice']  = df['bidPrice'].astype(float)\n",
    "df['askPrice']  = df['askPrice'].astype(float)"
   ]
  },
  {
   "cell_type": "code",
   "execution_count": 28,
   "id": "d6e20389-3906-4a62-9486-d8244674850e",
   "metadata": {
    "pycharm": {
     "name": "#%%\n"
    }
   },
   "outputs": [],
   "source": [
    "df['datetime'] = pd.to_datetime(df['at'], unit='ms')"
   ]
  },
  {
   "cell_type": "code",
   "execution_count": 30,
   "id": "888c1cc1-2b91-42d0-8982-6166abf15c2a",
   "metadata": {
    "pycharm": {
     "name": "#%%\n"
    }
   },
   "outputs": [
    {
     "data": {
      "text/html": [
       "<div>\n",
       "<style scoped>\n",
       "    .dataframe tbody tr th:only-of-type {\n",
       "        vertical-align: middle;\n",
       "    }\n",
       "\n",
       "    .dataframe tbody tr th {\n",
       "        vertical-align: top;\n",
       "    }\n",
       "\n",
       "    .dataframe thead th {\n",
       "        text-align: right;\n",
       "    }\n",
       "</style>\n",
       "<table border=\"1\" class=\"dataframe\">\n",
       "  <thead>\n",
       "    <tr style=\"text-align: right;\">\n",
       "      <th></th>\n",
       "      <th>symbol</th>\n",
       "      <th>baseAsset</th>\n",
       "      <th>quoteAsset</th>\n",
       "      <th>openPrice</th>\n",
       "      <th>lowPrice</th>\n",
       "      <th>highPrice</th>\n",
       "      <th>lastPrice</th>\n",
       "      <th>volume</th>\n",
       "      <th>bidPrice</th>\n",
       "      <th>askPrice</th>\n",
       "      <th>at</th>\n",
       "      <th>datetime</th>\n",
       "    </tr>\n",
       "  </thead>\n",
       "  <tbody>\n",
       "    <tr>\n",
       "      <th>0</th>\n",
       "      <td>btcinr</td>\n",
       "      <td>btc</td>\n",
       "      <td>inr</td>\n",
       "      <td>1.953004e+06</td>\n",
       "      <td>1.935000e+06</td>\n",
       "      <td>1.987512e+06</td>\n",
       "      <td>1.951010e+06</td>\n",
       "      <td>1.313436e+01</td>\n",
       "      <td>1.951010e+06</td>\n",
       "      <td>1.967814e+06</td>\n",
       "      <td>1675556482000</td>\n",
       "      <td>2023-02-05 00:21:22</td>\n",
       "    </tr>\n",
       "    <tr>\n",
       "      <th>1</th>\n",
       "      <td>xrpinr</td>\n",
       "      <td>xrp</td>\n",
       "      <td>inr</td>\n",
       "      <td>3.400010e+01</td>\n",
       "      <td>3.350340e+01</td>\n",
       "      <td>3.490000e+01</td>\n",
       "      <td>3.400150e+01</td>\n",
       "      <td>2.515998e+05</td>\n",
       "      <td>3.400120e+01</td>\n",
       "      <td>3.478990e+01</td>\n",
       "      <td>1675556482000</td>\n",
       "      <td>2023-02-05 00:21:22</td>\n",
       "    </tr>\n",
       "    <tr>\n",
       "      <th>2</th>\n",
       "      <td>ethinr</td>\n",
       "      <td>eth</td>\n",
       "      <td>inr</td>\n",
       "      <td>1.394950e+05</td>\n",
       "      <td>1.353335e+05</td>\n",
       "      <td>1.405320e+05</td>\n",
       "      <td>1.399880e+05</td>\n",
       "      <td>7.493090e+01</td>\n",
       "      <td>1.382070e+05</td>\n",
       "      <td>1.399880e+05</td>\n",
       "      <td>1675556482000</td>\n",
       "      <td>2023-02-05 00:21:22</td>\n",
       "    </tr>\n",
       "    <tr>\n",
       "      <th>3</th>\n",
       "      <td>trxinr</td>\n",
       "      <td>trx</td>\n",
       "      <td>inr</td>\n",
       "      <td>5.327400e+00</td>\n",
       "      <td>5.265500e+00</td>\n",
       "      <td>5.450000e+00</td>\n",
       "      <td>5.395000e+00</td>\n",
       "      <td>1.923986e+06</td>\n",
       "      <td>5.300800e+00</td>\n",
       "      <td>5.400300e+00</td>\n",
       "      <td>1675556482000</td>\n",
       "      <td>2023-02-05 00:21:22</td>\n",
       "    </tr>\n",
       "    <tr>\n",
       "      <th>4</th>\n",
       "      <td>eosinr</td>\n",
       "      <td>eos</td>\n",
       "      <td>inr</td>\n",
       "      <td>9.279000e+01</td>\n",
       "      <td>9.003000e+01</td>\n",
       "      <td>9.279000e+01</td>\n",
       "      <td>9.100000e+01</td>\n",
       "      <td>7.549300e+02</td>\n",
       "      <td>9.100000e+01</td>\n",
       "      <td>9.240000e+01</td>\n",
       "      <td>1675556482000</td>\n",
       "      <td>2023-02-05 00:21:22</td>\n",
       "    </tr>\n",
       "    <tr>\n",
       "      <th>...</th>\n",
       "      <td>...</td>\n",
       "      <td>...</td>\n",
       "      <td>...</td>\n",
       "      <td>...</td>\n",
       "      <td>...</td>\n",
       "      <td>...</td>\n",
       "      <td>...</td>\n",
       "      <td>...</td>\n",
       "      <td>...</td>\n",
       "      <td>...</td>\n",
       "      <td>...</td>\n",
       "      <td>...</td>\n",
       "    </tr>\n",
       "    <tr>\n",
       "      <th>434</th>\n",
       "      <td>1inchwrx</td>\n",
       "      <td>1inch</td>\n",
       "      <td>wrx</td>\n",
       "      <td>2.700000e+00</td>\n",
       "      <td>2.700000e+00</td>\n",
       "      <td>2.986000e+00</td>\n",
       "      <td>2.939000e+00</td>\n",
       "      <td>1.778600e+02</td>\n",
       "      <td>2.839000e+00</td>\n",
       "      <td>2.990000e+00</td>\n",
       "      <td>1675556484000</td>\n",
       "      <td>2023-02-05 00:21:24</td>\n",
       "    </tr>\n",
       "    <tr>\n",
       "      <th>435</th>\n",
       "      <td>dockwrx</td>\n",
       "      <td>dock</td>\n",
       "      <td>wrx</td>\n",
       "      <td>1.000000e-01</td>\n",
       "      <td>1.000000e-01</td>\n",
       "      <td>1.000000e-01</td>\n",
       "      <td>1.000000e-01</td>\n",
       "      <td>7.610000e+03</td>\n",
       "      <td>9.000000e-02</td>\n",
       "      <td>1.000000e-01</td>\n",
       "      <td>1675556484000</td>\n",
       "      <td>2023-02-05 00:21:24</td>\n",
       "    </tr>\n",
       "    <tr>\n",
       "      <th>436</th>\n",
       "      <td>runewrx</td>\n",
       "      <td>rune</td>\n",
       "      <td>wrx</td>\n",
       "      <td>9.598000e+00</td>\n",
       "      <td>9.111000e+00</td>\n",
       "      <td>9.598000e+00</td>\n",
       "      <td>9.111000e+00</td>\n",
       "      <td>7.850000e-01</td>\n",
       "      <td>8.775000e+00</td>\n",
       "      <td>9.594000e+00</td>\n",
       "      <td>1675556484000</td>\n",
       "      <td>2023-02-05 00:21:24</td>\n",
       "    </tr>\n",
       "    <tr>\n",
       "      <th>437</th>\n",
       "      <td>chrwrx</td>\n",
       "      <td>chr</td>\n",
       "      <td>wrx</td>\n",
       "      <td>9.292000e-01</td>\n",
       "      <td>8.523000e-01</td>\n",
       "      <td>9.292000e-01</td>\n",
       "      <td>9.270000e-01</td>\n",
       "      <td>9.400000e+01</td>\n",
       "      <td>8.002000e-01</td>\n",
       "      <td>9.269000e-01</td>\n",
       "      <td>1675556484000</td>\n",
       "      <td>2023-02-05 00:21:24</td>\n",
       "    </tr>\n",
       "    <tr>\n",
       "      <th>438</th>\n",
       "      <td>yfiiwrx</td>\n",
       "      <td>yfii</td>\n",
       "      <td>wrx</td>\n",
       "      <td>7.438360e+03</td>\n",
       "      <td>6.551000e+03</td>\n",
       "      <td>7.438360e+03</td>\n",
       "      <td>6.551000e+03</td>\n",
       "      <td>2.044700e-02</td>\n",
       "      <td>6.551000e+03</td>\n",
       "      <td>7.429900e+03</td>\n",
       "      <td>1675556484000</td>\n",
       "      <td>2023-02-05 00:21:24</td>\n",
       "    </tr>\n",
       "  </tbody>\n",
       "</table>\n",
       "<p>439 rows × 12 columns</p>\n",
       "</div>"
      ],
      "text/plain": [
       "       symbol baseAsset quoteAsset     openPrice      lowPrice     highPrice  \\\n",
       "0      btcinr       btc        inr  1.953004e+06  1.935000e+06  1.987512e+06   \n",
       "1      xrpinr       xrp        inr  3.400010e+01  3.350340e+01  3.490000e+01   \n",
       "2      ethinr       eth        inr  1.394950e+05  1.353335e+05  1.405320e+05   \n",
       "3      trxinr       trx        inr  5.327400e+00  5.265500e+00  5.450000e+00   \n",
       "4      eosinr       eos        inr  9.279000e+01  9.003000e+01  9.279000e+01   \n",
       "..        ...       ...        ...           ...           ...           ...   \n",
       "434  1inchwrx     1inch        wrx  2.700000e+00  2.700000e+00  2.986000e+00   \n",
       "435   dockwrx      dock        wrx  1.000000e-01  1.000000e-01  1.000000e-01   \n",
       "436   runewrx      rune        wrx  9.598000e+00  9.111000e+00  9.598000e+00   \n",
       "437    chrwrx       chr        wrx  9.292000e-01  8.523000e-01  9.292000e-01   \n",
       "438   yfiiwrx      yfii        wrx  7.438360e+03  6.551000e+03  7.438360e+03   \n",
       "\n",
       "        lastPrice        volume      bidPrice      askPrice             at  \\\n",
       "0    1.951010e+06  1.313436e+01  1.951010e+06  1.967814e+06  1675556482000   \n",
       "1    3.400150e+01  2.515998e+05  3.400120e+01  3.478990e+01  1675556482000   \n",
       "2    1.399880e+05  7.493090e+01  1.382070e+05  1.399880e+05  1675556482000   \n",
       "3    5.395000e+00  1.923986e+06  5.300800e+00  5.400300e+00  1675556482000   \n",
       "4    9.100000e+01  7.549300e+02  9.100000e+01  9.240000e+01  1675556482000   \n",
       "..            ...           ...           ...           ...            ...   \n",
       "434  2.939000e+00  1.778600e+02  2.839000e+00  2.990000e+00  1675556484000   \n",
       "435  1.000000e-01  7.610000e+03  9.000000e-02  1.000000e-01  1675556484000   \n",
       "436  9.111000e+00  7.850000e-01  8.775000e+00  9.594000e+00  1675556484000   \n",
       "437  9.270000e-01  9.400000e+01  8.002000e-01  9.269000e-01  1675556484000   \n",
       "438  6.551000e+03  2.044700e-02  6.551000e+03  7.429900e+03  1675556484000   \n",
       "\n",
       "               datetime  \n",
       "0   2023-02-05 00:21:22  \n",
       "1   2023-02-05 00:21:22  \n",
       "2   2023-02-05 00:21:22  \n",
       "3   2023-02-05 00:21:22  \n",
       "4   2023-02-05 00:21:22  \n",
       "..                  ...  \n",
       "434 2023-02-05 00:21:24  \n",
       "435 2023-02-05 00:21:24  \n",
       "436 2023-02-05 00:21:24  \n",
       "437 2023-02-05 00:21:24  \n",
       "438 2023-02-05 00:21:24  \n",
       "\n",
       "[439 rows x 12 columns]"
      ]
     },
     "execution_count": 30,
     "metadata": {},
     "output_type": "execute_result"
    }
   ],
   "source": [
    "df"
   ]
  },
  {
   "cell_type": "code",
   "execution_count": 32,
   "id": "7ef191e1-1bc8-4c0e-be0e-32efc9410449",
   "metadata": {
    "pycharm": {
     "name": "#%%\n"
    }
   },
   "outputs": [],
   "source": [
    "# To make sure the websocket stays live\n",
    "loop = asyncio.get_event_loop()"
   ]
  },
  {
   "cell_type": "code",
   "execution_count": 33,
   "id": "165e7fdb-db21-48af-8db3-041073bbc0a2",
   "metadata": {
    "pycharm": {
     "name": "#%%\n"
    }
   },
   "outputs": [
    {
     "data": {
      "text/plain": [
       "<_WindowsSelectorEventLoop running=True closed=False debug=False>"
      ]
     },
     "execution_count": 33,
     "metadata": {},
     "output_type": "execute_result"
    }
   ],
   "source": [
    "loop."
   ]
  },
  {
   "cell_type": "code",
   "execution_count": 34,
   "id": "8210d11c-4bda-4287-ac16-bf33711700d7",
   "metadata": {
    "pycharm": {
     "name": "#%%\n"
    }
   },
   "outputs": [
    {
     "data": {
      "text/plain": [
       "439"
      ]
     },
     "execution_count": 34,
     "metadata": {},
     "output_type": "execute_result"
    }
   ],
   "source": [
    "len(df)"
   ]
  },
  {
   "cell_type": "code",
   "execution_count": 35,
   "id": "29e7be47-2c04-4082-95fe-2eaa65ea3803",
   "metadata": {
    "pycharm": {
     "name": "#%%\n"
    }
   },
   "outputs": [
    {
     "data": {
      "text/html": [
       "<div>\n",
       "<style scoped>\n",
       "    .dataframe tbody tr th:only-of-type {\n",
       "        vertical-align: middle;\n",
       "    }\n",
       "\n",
       "    .dataframe tbody tr th {\n",
       "        vertical-align: top;\n",
       "    }\n",
       "\n",
       "    .dataframe thead th {\n",
       "        text-align: right;\n",
       "    }\n",
       "</style>\n",
       "<table border=\"1\" class=\"dataframe\">\n",
       "  <thead>\n",
       "    <tr style=\"text-align: right;\">\n",
       "      <th></th>\n",
       "      <th>symbol</th>\n",
       "      <th>baseAsset</th>\n",
       "      <th>quoteAsset</th>\n",
       "      <th>openPrice</th>\n",
       "      <th>lowPrice</th>\n",
       "      <th>highPrice</th>\n",
       "      <th>lastPrice</th>\n",
       "      <th>volume</th>\n",
       "      <th>bidPrice</th>\n",
       "      <th>askPrice</th>\n",
       "      <th>at</th>\n",
       "    </tr>\n",
       "  </thead>\n",
       "  <tbody>\n",
       "    <tr>\n",
       "      <th>0</th>\n",
       "      <td>btcinr</td>\n",
       "      <td>btc</td>\n",
       "      <td>inr</td>\n",
       "      <td>1952608</td>\n",
       "      <td>1935000.0</td>\n",
       "      <td>1984998.0</td>\n",
       "      <td>1961999.0</td>\n",
       "      <td>13.13436</td>\n",
       "      <td>1942000.0</td>\n",
       "      <td>1961998.0</td>\n",
       "      <td>1675560013000</td>\n",
       "    </tr>\n",
       "    <tr>\n",
       "      <th>1</th>\n",
       "      <td>xrpinr</td>\n",
       "      <td>xrp</td>\n",
       "      <td>inr</td>\n",
       "      <td>34.3998</td>\n",
       "      <td>33.5034</td>\n",
       "      <td>34.9</td>\n",
       "      <td>34.0012</td>\n",
       "      <td>251599.8</td>\n",
       "      <td>34.0012</td>\n",
       "      <td>34.7778</td>\n",
       "      <td>1675560013000</td>\n",
       "    </tr>\n",
       "    <tr>\n",
       "      <th>2</th>\n",
       "      <td>ethinr</td>\n",
       "      <td>eth</td>\n",
       "      <td>inr</td>\n",
       "      <td>137200</td>\n",
       "      <td>135333.5</td>\n",
       "      <td>140532.0</td>\n",
       "      <td>139499.0</td>\n",
       "      <td>74.9309</td>\n",
       "      <td>138000.1</td>\n",
       "      <td>139499.0</td>\n",
       "      <td>1675560013000</td>\n",
       "    </tr>\n",
       "    <tr>\n",
       "      <th>3</th>\n",
       "      <td>trxinr</td>\n",
       "      <td>trx</td>\n",
       "      <td>inr</td>\n",
       "      <td>5.29</td>\n",
       "      <td>5.2655</td>\n",
       "      <td>5.45</td>\n",
       "      <td>5.3432</td>\n",
       "      <td>1923986.0</td>\n",
       "      <td>5.3432</td>\n",
       "      <td>5.3999</td>\n",
       "      <td>1675560013000</td>\n",
       "    </tr>\n",
       "    <tr>\n",
       "      <th>4</th>\n",
       "      <td>eosinr</td>\n",
       "      <td>eos</td>\n",
       "      <td>inr</td>\n",
       "      <td>92.79</td>\n",
       "      <td>90.03</td>\n",
       "      <td>92.79</td>\n",
       "      <td>91.0</td>\n",
       "      <td>754.93</td>\n",
       "      <td>91.0</td>\n",
       "      <td>92.4</td>\n",
       "      <td>1675560013000</td>\n",
       "    </tr>\n",
       "    <tr>\n",
       "      <th>...</th>\n",
       "      <td>...</td>\n",
       "      <td>...</td>\n",
       "      <td>...</td>\n",
       "      <td>...</td>\n",
       "      <td>...</td>\n",
       "      <td>...</td>\n",
       "      <td>...</td>\n",
       "      <td>...</td>\n",
       "      <td>...</td>\n",
       "      <td>...</td>\n",
       "      <td>...</td>\n",
       "    </tr>\n",
       "    <tr>\n",
       "      <th>434</th>\n",
       "      <td>1inchwrx</td>\n",
       "      <td>1inch</td>\n",
       "      <td>wrx</td>\n",
       "      <td>2.7</td>\n",
       "      <td>2.7</td>\n",
       "      <td>3.0</td>\n",
       "      <td>3.0</td>\n",
       "      <td>177.86</td>\n",
       "      <td>2.839</td>\n",
       "      <td>3.0</td>\n",
       "      <td>1675560016000</td>\n",
       "    </tr>\n",
       "    <tr>\n",
       "      <th>435</th>\n",
       "      <td>dockwrx</td>\n",
       "      <td>dock</td>\n",
       "      <td>wrx</td>\n",
       "      <td>0.1</td>\n",
       "      <td>0.1</td>\n",
       "      <td>0.1</td>\n",
       "      <td>0.1</td>\n",
       "      <td>7610.0</td>\n",
       "      <td>0.09</td>\n",
       "      <td>0.1</td>\n",
       "      <td>1675560016000</td>\n",
       "    </tr>\n",
       "    <tr>\n",
       "      <th>436</th>\n",
       "      <td>runewrx</td>\n",
       "      <td>rune</td>\n",
       "      <td>wrx</td>\n",
       "      <td>9.598</td>\n",
       "      <td>9.111</td>\n",
       "      <td>9.598</td>\n",
       "      <td>9.111</td>\n",
       "      <td>0.785</td>\n",
       "      <td>8.775</td>\n",
       "      <td>9.594</td>\n",
       "      <td>1675560016000</td>\n",
       "    </tr>\n",
       "    <tr>\n",
       "      <th>437</th>\n",
       "      <td>chrwrx</td>\n",
       "      <td>chr</td>\n",
       "      <td>wrx</td>\n",
       "      <td>0.9292</td>\n",
       "      <td>0.8523</td>\n",
       "      <td>0.9292</td>\n",
       "      <td>0.927</td>\n",
       "      <td>94.0</td>\n",
       "      <td>0.8002</td>\n",
       "      <td>0.9269</td>\n",
       "      <td>1675560016000</td>\n",
       "    </tr>\n",
       "    <tr>\n",
       "      <th>438</th>\n",
       "      <td>yfiiwrx</td>\n",
       "      <td>yfii</td>\n",
       "      <td>wrx</td>\n",
       "      <td>7438.36</td>\n",
       "      <td>6551.0</td>\n",
       "      <td>7438.36</td>\n",
       "      <td>6551.0</td>\n",
       "      <td>0.020447</td>\n",
       "      <td>6551.0</td>\n",
       "      <td>7429.9</td>\n",
       "      <td>1675560016000</td>\n",
       "    </tr>\n",
       "  </tbody>\n",
       "</table>\n",
       "<p>439 rows × 11 columns</p>\n",
       "</div>"
      ],
      "text/plain": [
       "       symbol baseAsset quoteAsset openPrice   lowPrice  highPrice  lastPrice  \\\n",
       "0      btcinr       btc        inr   1952608  1935000.0  1984998.0  1961999.0   \n",
       "1      xrpinr       xrp        inr   34.3998    33.5034       34.9    34.0012   \n",
       "2      ethinr       eth        inr    137200   135333.5   140532.0   139499.0   \n",
       "3      trxinr       trx        inr      5.29     5.2655       5.45     5.3432   \n",
       "4      eosinr       eos        inr     92.79      90.03      92.79       91.0   \n",
       "..        ...       ...        ...       ...        ...        ...        ...   \n",
       "434  1inchwrx     1inch        wrx       2.7        2.7        3.0        3.0   \n",
       "435   dockwrx      dock        wrx       0.1        0.1        0.1        0.1   \n",
       "436   runewrx      rune        wrx     9.598      9.111      9.598      9.111   \n",
       "437    chrwrx       chr        wrx    0.9292     0.8523     0.9292      0.927   \n",
       "438   yfiiwrx      yfii        wrx   7438.36     6551.0    7438.36     6551.0   \n",
       "\n",
       "        volume   bidPrice   askPrice             at  \n",
       "0     13.13436  1942000.0  1961998.0  1675560013000  \n",
       "1     251599.8    34.0012    34.7778  1675560013000  \n",
       "2      74.9309   138000.1   139499.0  1675560013000  \n",
       "3    1923986.0     5.3432     5.3999  1675560013000  \n",
       "4       754.93       91.0       92.4  1675560013000  \n",
       "..         ...        ...        ...            ...  \n",
       "434     177.86      2.839        3.0  1675560016000  \n",
       "435     7610.0       0.09        0.1  1675560016000  \n",
       "436      0.785      8.775      9.594  1675560016000  \n",
       "437       94.0     0.8002     0.9269  1675560016000  \n",
       "438   0.020447     6551.0     7429.9  1675560016000  \n",
       "\n",
       "[439 rows x 11 columns]"
      ]
     },
     "execution_count": 35,
     "metadata": {},
     "output_type": "execute_result"
    }
   ],
   "source": [
    "pd.DataFrame(client.send('tickers')[1])"
   ]
  },
  {
   "cell_type": "code",
   "execution_count": 39,
   "id": "17deb12f-8d3f-4ac5-9ee1-f2f0cd7d4786",
   "metadata": {
    "pycharm": {
     "name": "#%%\n"
    }
   },
   "outputs": [
    {
     "data": {
      "text/plain": [
       "{'symbol': 'zilusdt',\n",
       " 'baseAsset': 'zil',\n",
       " 'quoteAsset': 'usdt',\n",
       " 'openPrice': 0.02915,\n",
       " 'lowPrice': 0.02794,\n",
       " 'highPrice': 0.03199,\n",
       " 'lastPrice': 0.03199,\n",
       " 'volume': 47491.0,\n",
       " 'bidPrice': 0.02901,\n",
       " 'askPrice': 0.03199,\n",
       " 'at': 1675556483000,\n",
       " 'datetime': Timestamp('2023-02-05 00:21:23')}"
      ]
     },
     "execution_count": 39,
     "metadata": {},
     "output_type": "execute_result"
    }
   ],
   "source": [
    "df.sample(1).to_dict(orient=\"records\")[0]"
   ]
  },
  {
   "cell_type": "code",
   "execution_count": 43,
   "id": "364c4c63-4637-410e-8956-8c5e670b7521",
   "metadata": {
    "pycharm": {
     "name": "#%%\n"
    }
   },
   "outputs": [],
   "source": [
    "producer = KafkaProducer(bootstrap_servers=['18.119.158.111:9092'],\n",
    "                             value_serializer=lambda x: dumps(x).encode('utf-8'))"
   ]
  },
  {
   "cell_type": "code",
   "execution_count": 45,
   "id": "bfe7772b-ccc0-410e-a40e-7800619d6d1f",
   "metadata": {
    "pycharm": {
     "name": "#%%\n"
    }
   },
   "outputs": [
    {
     "ename": "TypeError",
     "evalue": "Object of type Timestamp is not JSON serializable",
     "output_type": "error",
     "traceback": [
      "\u001B[1;31m---------------------------------------------------------------------------\u001B[0m",
      "\u001B[1;31mTypeError\u001B[0m                                 Traceback (most recent call last)",
      "\u001B[1;32m<ipython-input-45-32e94ef9686b>\u001B[0m in \u001B[0;36m<module>\u001B[1;34m\u001B[0m\n\u001B[0;32m      1\u001B[0m \u001B[1;32mwhile\u001B[0m \u001B[1;32mTrue\u001B[0m\u001B[1;33m:\u001B[0m\u001B[1;33m\u001B[0m\u001B[1;33m\u001B[0m\u001B[0m\n\u001B[0;32m      2\u001B[0m     \u001B[0mdict_tickers\u001B[0m \u001B[1;33m=\u001B[0m \u001B[0mdf\u001B[0m\u001B[1;33m.\u001B[0m\u001B[0msample\u001B[0m\u001B[1;33m(\u001B[0m\u001B[1;36m1\u001B[0m\u001B[1;33m)\u001B[0m\u001B[1;33m.\u001B[0m\u001B[0mto_dict\u001B[0m\u001B[1;33m(\u001B[0m\u001B[0morient\u001B[0m\u001B[1;33m=\u001B[0m\u001B[1;34m\"records\"\u001B[0m\u001B[1;33m)\u001B[0m\u001B[1;33m[\u001B[0m\u001B[1;36m0\u001B[0m\u001B[1;33m]\u001B[0m\u001B[1;33m\u001B[0m\u001B[1;33m\u001B[0m\u001B[0m\n\u001B[1;32m----> 3\u001B[1;33m     \u001B[0mproducer\u001B[0m\u001B[1;33m.\u001B[0m\u001B[0msend\u001B[0m\u001B[1;33m(\u001B[0m\u001B[1;34m'demo_test'\u001B[0m\u001B[1;33m,\u001B[0m \u001B[0mvalue\u001B[0m\u001B[1;33m=\u001B[0m\u001B[0mdict_tickers\u001B[0m\u001B[1;33m)\u001B[0m\u001B[1;33m\u001B[0m\u001B[1;33m\u001B[0m\u001B[0m\n\u001B[0m\u001B[0;32m      4\u001B[0m     \u001B[0mprint\u001B[0m\u001B[1;33m(\u001B[0m\u001B[1;33m)\u001B[0m\u001B[1;33m\u001B[0m\u001B[1;33m\u001B[0m\u001B[0m\n",
      "\u001B[1;32m~\\anaconda3\\lib\\site-packages\\kafka\\producer\\kafka.py\u001B[0m in \u001B[0;36msend\u001B[1;34m(self, topic, value, key, headers, partition, timestamp_ms)\u001B[0m\n\u001B[0;32m    579\u001B[0m                 \u001B[0mself\u001B[0m\u001B[1;33m.\u001B[0m\u001B[0mconfig\u001B[0m\u001B[1;33m[\u001B[0m\u001B[1;34m'key_serializer'\u001B[0m\u001B[1;33m]\u001B[0m\u001B[1;33m,\u001B[0m\u001B[1;33m\u001B[0m\u001B[1;33m\u001B[0m\u001B[0m\n\u001B[0;32m    580\u001B[0m                 topic, key)\n\u001B[1;32m--> 581\u001B[1;33m             value_bytes = self._serialize(\n\u001B[0m\u001B[0;32m    582\u001B[0m                 \u001B[0mself\u001B[0m\u001B[1;33m.\u001B[0m\u001B[0mconfig\u001B[0m\u001B[1;33m[\u001B[0m\u001B[1;34m'value_serializer'\u001B[0m\u001B[1;33m]\u001B[0m\u001B[1;33m,\u001B[0m\u001B[1;33m\u001B[0m\u001B[1;33m\u001B[0m\u001B[0m\n\u001B[0;32m    583\u001B[0m                 topic, value)\n",
      "\u001B[1;32m~\\anaconda3\\lib\\site-packages\\kafka\\producer\\kafka.py\u001B[0m in \u001B[0;36m_serialize\u001B[1;34m(self, f, topic, data)\u001B[0m\n\u001B[0;32m    712\u001B[0m         \u001B[1;32mif\u001B[0m \u001B[0misinstance\u001B[0m\u001B[1;33m(\u001B[0m\u001B[0mf\u001B[0m\u001B[1;33m,\u001B[0m \u001B[0mSerializer\u001B[0m\u001B[1;33m)\u001B[0m\u001B[1;33m:\u001B[0m\u001B[1;33m\u001B[0m\u001B[1;33m\u001B[0m\u001B[0m\n\u001B[0;32m    713\u001B[0m             \u001B[1;32mreturn\u001B[0m \u001B[0mf\u001B[0m\u001B[1;33m.\u001B[0m\u001B[0mserialize\u001B[0m\u001B[1;33m(\u001B[0m\u001B[0mtopic\u001B[0m\u001B[1;33m,\u001B[0m \u001B[0mdata\u001B[0m\u001B[1;33m)\u001B[0m\u001B[1;33m\u001B[0m\u001B[1;33m\u001B[0m\u001B[0m\n\u001B[1;32m--> 714\u001B[1;33m         \u001B[1;32mreturn\u001B[0m \u001B[0mf\u001B[0m\u001B[1;33m(\u001B[0m\u001B[0mdata\u001B[0m\u001B[1;33m)\u001B[0m\u001B[1;33m\u001B[0m\u001B[1;33m\u001B[0m\u001B[0m\n\u001B[0m\u001B[0;32m    715\u001B[0m \u001B[1;33m\u001B[0m\u001B[0m\n\u001B[0;32m    716\u001B[0m     def _partition(self, topic, partition, key, value,\n",
      "\u001B[1;32m<ipython-input-43-b9a926e31522>\u001B[0m in \u001B[0;36m<lambda>\u001B[1;34m(x)\u001B[0m\n\u001B[0;32m      1\u001B[0m producer = KafkaProducer(bootstrap_servers=['18.119.158.111:9092'],\n\u001B[1;32m----> 2\u001B[1;33m                              value_serializer=lambda x: dumps(x).encode('utf-8'))\n\u001B[0m",
      "\u001B[1;32m~\\anaconda3\\lib\\json\\__init__.py\u001B[0m in \u001B[0;36mdumps\u001B[1;34m(obj, skipkeys, ensure_ascii, check_circular, allow_nan, cls, indent, separators, default, sort_keys, **kw)\u001B[0m\n\u001B[0;32m    229\u001B[0m         \u001B[0mcls\u001B[0m \u001B[1;32mis\u001B[0m \u001B[1;32mNone\u001B[0m \u001B[1;32mand\u001B[0m \u001B[0mindent\u001B[0m \u001B[1;32mis\u001B[0m \u001B[1;32mNone\u001B[0m \u001B[1;32mand\u001B[0m \u001B[0mseparators\u001B[0m \u001B[1;32mis\u001B[0m \u001B[1;32mNone\u001B[0m \u001B[1;32mand\u001B[0m\u001B[1;33m\u001B[0m\u001B[1;33m\u001B[0m\u001B[0m\n\u001B[0;32m    230\u001B[0m         default is None and not sort_keys and not kw):\n\u001B[1;32m--> 231\u001B[1;33m         \u001B[1;32mreturn\u001B[0m \u001B[0m_default_encoder\u001B[0m\u001B[1;33m.\u001B[0m\u001B[0mencode\u001B[0m\u001B[1;33m(\u001B[0m\u001B[0mobj\u001B[0m\u001B[1;33m)\u001B[0m\u001B[1;33m\u001B[0m\u001B[1;33m\u001B[0m\u001B[0m\n\u001B[0m\u001B[0;32m    232\u001B[0m     \u001B[1;32mif\u001B[0m \u001B[0mcls\u001B[0m \u001B[1;32mis\u001B[0m \u001B[1;32mNone\u001B[0m\u001B[1;33m:\u001B[0m\u001B[1;33m\u001B[0m\u001B[1;33m\u001B[0m\u001B[0m\n\u001B[0;32m    233\u001B[0m         \u001B[0mcls\u001B[0m \u001B[1;33m=\u001B[0m \u001B[0mJSONEncoder\u001B[0m\u001B[1;33m\u001B[0m\u001B[1;33m\u001B[0m\u001B[0m\n",
      "\u001B[1;32m~\\anaconda3\\lib\\json\\encoder.py\u001B[0m in \u001B[0;36mencode\u001B[1;34m(self, o)\u001B[0m\n\u001B[0;32m    197\u001B[0m         \u001B[1;31m# exceptions aren't as detailed.  The list call should be roughly\u001B[0m\u001B[1;33m\u001B[0m\u001B[1;33m\u001B[0m\u001B[1;33m\u001B[0m\u001B[0m\n\u001B[0;32m    198\u001B[0m         \u001B[1;31m# equivalent to the PySequence_Fast that ''.join() would do.\u001B[0m\u001B[1;33m\u001B[0m\u001B[1;33m\u001B[0m\u001B[1;33m\u001B[0m\u001B[0m\n\u001B[1;32m--> 199\u001B[1;33m         \u001B[0mchunks\u001B[0m \u001B[1;33m=\u001B[0m \u001B[0mself\u001B[0m\u001B[1;33m.\u001B[0m\u001B[0miterencode\u001B[0m\u001B[1;33m(\u001B[0m\u001B[0mo\u001B[0m\u001B[1;33m,\u001B[0m \u001B[0m_one_shot\u001B[0m\u001B[1;33m=\u001B[0m\u001B[1;32mTrue\u001B[0m\u001B[1;33m)\u001B[0m\u001B[1;33m\u001B[0m\u001B[1;33m\u001B[0m\u001B[0m\n\u001B[0m\u001B[0;32m    200\u001B[0m         \u001B[1;32mif\u001B[0m \u001B[1;32mnot\u001B[0m \u001B[0misinstance\u001B[0m\u001B[1;33m(\u001B[0m\u001B[0mchunks\u001B[0m\u001B[1;33m,\u001B[0m \u001B[1;33m(\u001B[0m\u001B[0mlist\u001B[0m\u001B[1;33m,\u001B[0m \u001B[0mtuple\u001B[0m\u001B[1;33m)\u001B[0m\u001B[1;33m)\u001B[0m\u001B[1;33m:\u001B[0m\u001B[1;33m\u001B[0m\u001B[1;33m\u001B[0m\u001B[0m\n\u001B[0;32m    201\u001B[0m             \u001B[0mchunks\u001B[0m \u001B[1;33m=\u001B[0m \u001B[0mlist\u001B[0m\u001B[1;33m(\u001B[0m\u001B[0mchunks\u001B[0m\u001B[1;33m)\u001B[0m\u001B[1;33m\u001B[0m\u001B[1;33m\u001B[0m\u001B[0m\n",
      "\u001B[1;32m~\\anaconda3\\lib\\json\\encoder.py\u001B[0m in \u001B[0;36miterencode\u001B[1;34m(self, o, _one_shot)\u001B[0m\n\u001B[0;32m    255\u001B[0m                 \u001B[0mself\u001B[0m\u001B[1;33m.\u001B[0m\u001B[0mkey_separator\u001B[0m\u001B[1;33m,\u001B[0m \u001B[0mself\u001B[0m\u001B[1;33m.\u001B[0m\u001B[0mitem_separator\u001B[0m\u001B[1;33m,\u001B[0m \u001B[0mself\u001B[0m\u001B[1;33m.\u001B[0m\u001B[0msort_keys\u001B[0m\u001B[1;33m,\u001B[0m\u001B[1;33m\u001B[0m\u001B[1;33m\u001B[0m\u001B[0m\n\u001B[0;32m    256\u001B[0m                 self.skipkeys, _one_shot)\n\u001B[1;32m--> 257\u001B[1;33m         \u001B[1;32mreturn\u001B[0m \u001B[0m_iterencode\u001B[0m\u001B[1;33m(\u001B[0m\u001B[0mo\u001B[0m\u001B[1;33m,\u001B[0m \u001B[1;36m0\u001B[0m\u001B[1;33m)\u001B[0m\u001B[1;33m\u001B[0m\u001B[1;33m\u001B[0m\u001B[0m\n\u001B[0m\u001B[0;32m    258\u001B[0m \u001B[1;33m\u001B[0m\u001B[0m\n\u001B[0;32m    259\u001B[0m def _make_iterencode(markers, _default, _encoder, _indent, _floatstr,\n",
      "\u001B[1;32m~\\anaconda3\\lib\\json\\encoder.py\u001B[0m in \u001B[0;36mdefault\u001B[1;34m(self, o)\u001B[0m\n\u001B[0;32m    177\u001B[0m \u001B[1;33m\u001B[0m\u001B[0m\n\u001B[0;32m    178\u001B[0m         \"\"\"\n\u001B[1;32m--> 179\u001B[1;33m         raise TypeError(f'Object of type {o.__class__.__name__} '\n\u001B[0m\u001B[0;32m    180\u001B[0m                         f'is not JSON serializable')\n\u001B[0;32m    181\u001B[0m \u001B[1;33m\u001B[0m\u001B[0m\n",
      "\u001B[1;31mTypeError\u001B[0m: Object of type Timestamp is not JSON serializable"
     ]
    }
   ],
   "source": [
    "while True:\n",
    "    dict_tickers = df.sample(1).to_dict(orient=\"records\")[0]\n",
    "    producer.send('crypto_stream', value=dict_tickers)\n",
    "    print()"
   ]
  }
 ],
 "metadata": {
  "kernelspec": {
   "display_name": "Python 3",
   "language": "python",
   "name": "python3"
  },
  "language_info": {
   "codemirror_mode": {
    "name": "ipython",
    "version": 3
   },
   "file_extension": ".py",
   "mimetype": "text/x-python",
   "name": "python",
   "nbconvert_exporter": "python",
   "pygments_lexer": "ipython3",
   "version": "3.8.8"
  }
 },
 "nbformat": 4,
 "nbformat_minor": 5
}